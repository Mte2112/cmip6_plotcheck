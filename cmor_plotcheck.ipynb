{
 "cells": [
  {
   "cell_type": "markdown",
   "id": "ca389144-bc1d-4099-8ab1-4e02ed39a58b",
   "metadata": {},
   "source": [
    "# CMIP6 Post-CMOR Plotting Program  \n",
    "(plotcheck.py)"
   ]
  },
  {
   "cell_type": "markdown",
   "id": "bc13baa5-59da-4161-86c3-adf791707e6e",
   "metadata": {},
   "source": [
    "Goal: After CMORizing E3 output, visualize all variables processed (where possible).\n",
    "- Ensure that the data are of expected magnitude and distribution and that they are time-varying.\n",
    "- Compare to available E2.X runs of similar configuration.\n",
    "- Output key statistics that may give a snapshot overview of run.\n",
    "- Make simple & efficient. Add complexity later if need be."
   ]
  },
  {
   "cell_type": "code",
   "execution_count": 3,
   "id": "9b1b63a1-6958-41ad-b902-0d577730955a",
   "metadata": {},
   "outputs": [],
   "source": [
    "import xarray as xr\n",
    "import pandas as pd\n",
    "import numpy as np\n",
    "import glob\n",
    "import os\n",
    "import time\n",
    "import cartopy.crs as ccrs\n",
    "from matplotlib import pyplot as plt\n",
    "from matplotlib.backends.backend_pdf import PdfPages as pdf\n",
    "from cmor_plot.cmor_plot.cptools import Tools as cpt"
   ]
  },
  {
   "cell_type": "code",
   "execution_count": null,
   "id": "5fa9fd2b-f9ca-4181-98bc-1e706afd24d4",
   "metadata": {},
   "outputs": [
    {
     "name": "stderr",
     "output_type": "stream",
     "text": [
      "/gpfsm/dnb53/tdirs/batch/slurm.13713503.melling/ipykernel_183111/2276263167.py:105: RuntimeWarning: More than 20 figures have been opened. Figures created through the pyplot interface (`matplotlib.pyplot.figure`) are retained until explicitly closed and may consume too much memory. (To control this warning, see the rcParam `figure.max_open_warning`).\n",
      "  fig, axes = plt.subplots(nrows=1, ncols=3, figsize = (25, 13))\n"
     ]
    },
    {
     "name": "stdout",
     "output_type": "stream",
     "text": [
      "(O)f[x/y] detected. Skipping...\n",
      "(O)f[x/y] detected. Skipping...\n",
      "(O)f[x/y] detected. Skipping...\n"
     ]
    }
   ],
   "source": [
    "start = time.time()\n",
    "\n",
    "# Get work directory\n",
    "#wd = os.getcwd()\n",
    "wd = \"/gpfsm/dnb05/projects/p54/users/melling/process/cmor_plotcheck/\"\n",
    "# Input the name of the E3 run directory up to the variant label\n",
    "runE2 = \"/css/cmip6/CMIP6/CMIP/NASA-GISS/GISS-E2-1-G/historical/r1i1p1f1/\"\n",
    "runE3 = \"/discover/nobackup/projects/cmip6/e3staging/CMIP6/CMIP/NASA-GISS/GISS-E3-G/historical/r1i1p101f1/\"\n",
    "outdir = wd\n",
    "figname = 'mkE3trn698c'\n",
    "allvarsE2 = runE2 + \"*/*/*/*\"\n",
    "allvarsE3 = runE3 + \"*/*/*/*\"\n",
    "\n",
    "pp = pdf(wd + figname + '.pdf')\n",
    "os.chdir(outdir)\n",
    "\n",
    "###################################################################################################################################################\n",
    "\n",
    "# Loop through the E3 directory \n",
    "\n",
    "for direc3 in glob.glob(allvarsE3):\n",
    "    os.chdir(outdir)\n",
    "\n",
    "    # Call 'get_sample' for E3, save filename and open dataset\n",
    "    fileE3 = cpt.get_sample(direc3, outdir)\n",
    "    #fileE3 = sample\n",
    "    if ('/fx/' in fileE3) | ('/fy/' in fileE3) | ('/Ofx/' in fileE3) | ('/Ofy/' in fileE3):\n",
    "        print(\"(O)f[x/y] detected. Skipping...\")\n",
    "    elif ('gyre' in fileE3) | ('gyre' in fileE3):\n",
    "        print(\"Temporarily skipping. Will create logic for plot dims later...\")\n",
    "    else: \n",
    "        # Open the sample E3 file \n",
    "        dsE3 = xr.open_dataset(fileE3)\n",
    "\n",
    "        # Get relevant varname & frequency\n",
    "        freq = direc3.split(\"/\")[-4]\n",
    "        varname = direc3.split(\"/\")[-3]\n",
    "        gride3 = direc3.split(\"/\")[-2]\n",
    "        modelv2 = runE2.split('CMIP6')[1].split('/')[3]\n",
    "        # modelv2 = direc2.split(\"/\")[-7]  # A problem when e2 directory structure not the same\n",
    "        modelv3 = direc3.split(\"/\")[-7]\n",
    "\n",
    "        # Try to find the same var/freq in E2\n",
    "        # start here-- basically try to get the same file using the freq and varname defined earlier. if exception, plot no data\n",
    "        e3version = direc3.split(\"/\")[-1]\n",
    "        e2path_short = runE2 + direc3.split(e3version)[0].split(runE3)[1]\n",
    "        e2path_full = e2path_short + \"*\"\n",
    "        direc2 = glob.glob(e2path_full)\n",
    "        if len(direc2) > 0:\n",
    "            direc2 = direc2[0]\n",
    "            os.chdir(direc2) # if this fails, there was no path found (aka no matching data)\n",
    "            fileE2 = cpt.get_sample(direc2, outdir)\n",
    "            #fileE2 = sample\n",
    "\n",
    "            # creat e2 dataset\n",
    "            dsE2 = xr.open_dataset(fileE2)\n",
    "\n",
    "            # Verify that E2 variable exists, and carry on\n",
    "            varexist = 1\n",
    "        else:\n",
    "            # Check if there is a native grid E2 match to E3 regridded\n",
    "            if gride3 == \"gr\":\n",
    "                e2path_full_native = e2path_full.replace(\"/gr/\", \"/gn/\")\n",
    "                direc2 = glob.glob(e2path_full_native)\n",
    "                if len(direc2) > 0:\n",
    "                    direc2 = direc2[0]\n",
    "                    os.chdir(direc2) # if this fails, there was no path found (aka no matching data)\n",
    "                    fileE2 = cpt.get_sample(direc2, outdir)\n",
    "                    #fileE2 = sample\n",
    "\n",
    "                    # creat e2 dataset\n",
    "                    dsE2 = xr.open_dataset(fileE2)\n",
    "\n",
    "                    # Verify that E2 variable exists, and carry on\n",
    "                    varexist = 1\n",
    "                else: \n",
    "                    varexist = 0\n",
    "                    \n",
    "            else:   \n",
    "                print(\"No E2 match found for \" + fileE3.split('/')[-1] + \", skipping...\")\n",
    "                dsE2 = None\n",
    "                varexist = 0\n",
    "\n",
    "        # Check for num dimensions\n",
    "        dsE3 = cpt.check_dim(dsE3, varname)\n",
    "        if varexist == 1:\n",
    "            dsE2 = cpt.check_dim(dsE2, varname)\n",
    "            arr_arr = cpt.getstats(dsE3, dsE2, varexist, varname)\n",
    "        elif varexist == 0:\n",
    "            arr_arr = cpt.getstats(dsE3, None, varexist, varname)\n",
    "            \n",
    "        arr_arr_str = [\"maxval\", \"minval\", \"timemean\", \"vmax\", \"vmin\"]\n",
    "\n",
    "        # Loop through array and set variables\n",
    "        for arr, n in zip(arr_arr_str, np.arange(0,len(arr_arr), 1)):\n",
    "            locals()[arr] = arr_arr[n]\n",
    "\n",
    "        # Title\n",
    "        years = fileE3.split('_')[-1].split('.')[0]\n",
    "        m3title = \"mean \" + varname + \" \" + freq + \"\\n\" + \" [\" + direc3.split(\"/\")[-7] + \" \" + direc3.split(\"/\")[-6] + \" \" + direc3.split(\"/\")[-5] + \" \" + direc3.split(\"/\")[-2] + \" \" + direc3.split(\"/\")[-1] + \" \" + \"(\" + years + \")\" + \"] \"\n",
    "        if varexist == 1:\n",
    "            m2title = \"mean \" + varname + \" \" + freq + \"\\n\" + \" [\" + direc2.split(\"/\")[-7] + \" \" + direc2.split(\"/\")[-6] + \" \" + direc2.split(\"/\")[-5] + \" \" + direc2.split(\"/\")[-2] + \" \" + direc2.split(\"/\")[-1] + \" \" + \"(\" + years + \")\" + \"] \"\n",
    "\n",
    "        # Plot vals\n",
    "        fig, axes = plt.subplots(nrows=1, ncols=3, figsize = (25, 13))\n",
    "        plt.subplots_adjust(hspace = 0.5)\n",
    "        central_lon = 0\n",
    "        ax = plt.axes(projection=ccrs.Robinson())\n",
    "\n",
    "        # Get cbar labels\n",
    "        try:\n",
    "            labele3 = dsE3[varname].attrs[\"units\"]\n",
    "        except:\n",
    "            labele3 = varname\n",
    "        try:\n",
    "            labele2 = dsE2[varname].attrs[\"units\"]\n",
    "        except:\n",
    "            labele2 = varname\n",
    "\n",
    "        # E3\n",
    "        # Temporarily skip the non lat,lon,time vars\n",
    "        vardims3 = timemean[0].dims\n",
    "        if ('lat' in vardims3) & ('lon' in vardims3):\n",
    "            ax1 = plt.subplot(2, 3, 1, projection=ccrs.Robinson(central_lon))\n",
    "            ax1.gridlines(crs=ccrs.PlateCarree(), draw_labels=True, linestyle='--')\n",
    "            timemean[0].plot(transform=ccrs.PlateCarree(), cbar_kwargs={'orientation':'horizontal','pad': 0.06, 'label':labele3}, \n",
    "                            vmax = maxval[0], vmin = minval[0])\n",
    "            plt.title(m3title)\n",
    "            ax1.coastlines();\n",
    "            ax1.set_rasterized(True)\n",
    "        else:\n",
    "            ax1 = plt.subplot(2, 3, 1)#projection=ccrs.Robinson(central_lon))\n",
    "            ax1.text(0.25, 0.5, 'fix 2d plotting code', fontsize = 40)\n",
    "            plt.xticks([])\n",
    "            plt.yticks([])\n",
    "\n",
    "        # E2\n",
    "        if varexist == 1:\n",
    "            vardims2 = timemean[1].dims\n",
    "            if ('lat' in vardims2) & ('lon' in vardims2):\n",
    "                ax2 = plt.subplot(2, 3, 2, projection=ccrs.Robinson(central_lon))\n",
    "                ax2.gridlines(crs=ccrs.PlateCarree(), draw_labels=True, linestyle='--')\n",
    "                timemean[1].plot(transform=ccrs.PlateCarree(), cbar_kwargs={'orientation':'horizontal','pad': 0.06, 'label':labele3}, \n",
    "                                vmax = maxval[1], vmin = minval[1])\n",
    "                plt.title(m2title)\n",
    "                ax2.coastlines();\n",
    "                ax2.set_rasterized(True)\n",
    "            else:\n",
    "                ax2 = plt.subplot(2, 3, 2)#projection=ccrs.Robinson(central_lon))\n",
    "                ax2.text(0.25, 0.5, 'fix 2d plotting code', fontsize = 40)\n",
    "                plt.xticks([])\n",
    "                plt.yticks([])\n",
    "        else:\n",
    "            ax2 = plt.subplot(2, 3, 2)#projection=ccrs.Robinson(central_lon))\n",
    "            ax2.text(0.25, 0.5, 'NO DATA', fontsize = 40)\n",
    "            plt.xticks([])\n",
    "            plt.yticks([])\n",
    "\n",
    "        # Key statistics\n",
    "        df = pd.DataFrame()\n",
    "        df[\" \"] = [\"min\", \"max\"]\n",
    "\n",
    "        df[modelv3] = [np.round(minval[0], 2), np.round(maxval[0], 2)]\n",
    "        try:\n",
    "            df[modelv2] = [np.round(minval[1], 2), np.round(maxval[1], 2)]\n",
    "        except: # If no  E2 data, rounding will not work. Just append \"NA\" string\n",
    "            df[modelv2] = [minval[1], maxval[1]]\n",
    "\n",
    "        ax3 = plt.subplot(2, 3, 3)\n",
    "        ax3.table(cellText=df.values, colLabels=df.keys(), loc='center')\n",
    "        plt.xticks([])\n",
    "        plt.yticks([])\n",
    "\n",
    "        # Save figure\n",
    "        pp.savefig(dpi=300)\n",
    "        \n",
    "        # del datasets variables to save RAM (probably unecessary)\n",
    "        try:\n",
    "            del dsE3\n",
    "            del dsE2\n",
    "        except:\n",
    "            try:\n",
    "                del dsE3\n",
    "            except:\n",
    "                None\n",
    "pp.close()\n",
    "\n",
    "\n",
    "end = time.time()\n",
    "totalt = end - start\n",
    "print(\"Total runtime: \" + str(totalt) + \" seconds\")"
   ]
  },
  {
   "cell_type": "markdown",
   "id": "1ffb4dcb-204d-4b1a-ad34-0f8d658f78f3",
   "metadata": {
    "tags": []
   },
   "source": [
    "### To do next:\n",
    "not super important but could count variables iterated for time reference"
   ]
  },
  {
   "cell_type": "code",
   "execution_count": 16,
   "id": "d4352d57-87de-4d98-a6b9-e68e8cdd9ec7",
   "metadata": {},
   "outputs": [],
   "source": [
    "test = xr.open_dataset('/css/cmip6/CMIP6/CMIP/NASA-GISS/GISS-E3-G/historical/r1i1p1f1/Omon/htovovrt/gn/v20220727/htovovrt_Omon_GISS-E3-G_historical_r1i1p1f1_gn_195001-199912.nc')"
   ]
  },
  {
   "cell_type": "code",
   "execution_count": 33,
   "id": "4736a853-43c3-4a10-b2a6-054048711c83",
   "metadata": {},
   "outputs": [
    {
     "data": {
      "text/plain": [
       "<matplotlib.collections.QuadMesh at 0x2ad6dbeee0a0>"
      ]
     },
     "execution_count": 33,
     "metadata": {},
     "output_type": "execute_result"
    },
    {
     "data": {
      "image/png": "[encoded data removed]",
      "text/plain": [
       "<Figure size 432x288 with 2 Axes>"
      ]
     },
     "metadata": {
      "needs_background": "light"
     },
     "output_type": "display_data"
    }
   ],
   "source": [
    "test.htovovrt.mean('time').plot()"
   ]
  },
  {
   "cell_type": "code",
   "execution_count": 36,
   "id": "4f8de9df-7ecd-44b8-bc99-800b0fcd6bc4",
   "metadata": {},
   "outputs": [
    {
     "data": {
      "text/plain": [
       "('basin', 'lat')"
      ]
     },
     "execution_count": 36,
     "metadata": {},
     "output_type": "execute_result"
    }
   ],
   "source": [
    "timemean[0].dims"
   ]
  },
  {
   "cell_type": "code",
   "execution_count": null,
   "id": "063354b5-d32e-42fe-8456-1a4da0bb2fc8",
   "metadata": {},
   "outputs": [],
   "source": []
  }
 ],
 "metadata": {
  "kernelspec": {
   "display_name": "Python [conda env:sci2]",
   "language": "python",
   "name": "conda-env-sci2-py"
  },
  "language_info": {
   "codemirror_mode": {
    "name": "ipython",
    "version": 3
   },
   "file_extension": ".py",
   "mimetype": "text/x-python",
   "name": "python",
   "nbconvert_exporter": "python",
   "pygments_lexer": "ipython3",
   "version": "3.9.13"
  }
 },
 "nbformat": 4,
 "nbformat_minor": 5
}
